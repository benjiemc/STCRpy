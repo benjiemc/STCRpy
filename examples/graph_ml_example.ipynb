{
 "cells": [
  {
   "cell_type": "markdown",
   "metadata": {},
   "source": [
    "# STCRpy for Graph Machine Learning Example\n",
    "\n",
    "This notebook generates a graph dataset form TCR and TCR:pMHC structures, and then builds and trains a small equivariant graph neural network to annotate amino acids by region. \n",
    "\n",
    "This is an illustrative example with a few data points, rather than a fully scaled application.\n",
    "\n",
    "As well as pytorch and pytorch-geometric you may also need to install some small helper packages: \n",
    "```\n",
    "pip install glob tqdm einops\n",
    "```"
   ]
  },
  {
   "cell_type": "code",
   "execution_count": 1,
   "metadata": {},
   "outputs": [
    {
     "name": "stderr",
     "output_type": "stream",
     "text": [
      "/home/quast/Projects/TCRpy/stcrpy/stcrpy/tcr_interactions/TCRInteractionProfiler.py:14: UserWarning: \n",
      "Pymol package not found. \n",
      "Interaction profiler initialising without visualisation capabilitites. \n",
      "To enable pymol visualisations, install pymol with:\n",
      "            \n",
      "conda install -c conda-forge -c schrodinger numpy pymol-bundle\n",
      "\n",
      "\n",
      "  warnings.warn(\n"
     ]
    }
   ],
   "source": [
    "from glob import glob\n",
    "import pandas as pd\n",
    "import random\n",
    "\n",
    "import torch\n",
    "from torch import nn\n",
    "from tqdm import tqdm\n",
    "import numpy as np\n",
    "\n",
    "\n",
    "from stcrpy.tcr_datasets.tcr_graph_dataset import TCRGraphDataset"
   ]
  },
  {
   "cell_type": "code",
   "execution_count": 2,
   "metadata": {},
   "outputs": [],
   "source": [
    "pdb_files = glob(\"../test/test_files/*.pdb\") + glob(\"../test/test_files/*.cif\")\n",
    "df = pd.Series({f.split(\"/\")[-1].split('.')[0]: f for f in pdb_files}, name=\"path\")\n",
    "df.to_csv(\"example_graph_data.csv\")"
   ]
  },
  {
   "cell_type": "code",
   "execution_count": null,
   "metadata": {},
   "outputs": [
    {
     "name": "stderr",
     "output_type": "stream",
     "text": [
      "Processing...\n",
      "/home/quast/Projects/TCRpy/stcrpy/stcrpy/tcr_datasets/tcr_graph_dataset.py:337: UserWarning: No antigen found for TCR <TCR DC beta=D; alpha=C>. Antigen not included in graph.\n",
      "  warnings.warn(\n",
      "Header could not be parsedCommon molecule GOL found in the binding site - not considered an antigen\n",
      "Common molecule GOL found in the binding site - not considered an antigen\n",
      "Common molecule GOL found in the binding site - not considered an antigen\n",
      "Common molecule GOL found in the binding site - not considered an antigen\n",
      "Common molecule GOL found in the binding site - not considered an antigen\n",
      "Common molecule GOL found in the binding site - not considered an antigen\n",
      "Common molecule GOL found in the binding site - not considered an antigen\n",
      "Common molecule GOL found in the binding site - not considered an antigen\n",
      "Common molecule GOL found in the binding site - not considered an antigen\n",
      "Common molecule GOL found in the binding site - not considered an antigen\n",
      "Common molecule GOL found in the binding site - not considered an antigen\n",
      "Common molecule GOL found in the binding site - not considered an antigen\n",
      "Common molecule GOL found in the binding site - not considered an antigen\n",
      "Common molecule GOL found in the binding site - not considered an antigen\n",
      "Common molecule GOL found in the binding site - not considered an antigen\n",
      "Common molecule GOL found in the binding site - not considered an antigen\n",
      "Common molecule GOL found in the binding site - not considered an antigen\n",
      "Common molecule GOL found in the binding site - not considered an antigen\n",
      "Common molecule GOL found in the binding site - not considered an antigen\n",
      "Common molecule GOL found in the binding site - not considered an antigen\n",
      "Common molecule GOL found in the binding site - not considered an antigen\n",
      "Common molecule GOL found in the binding site - not considered an antigen\n",
      "Common molecule GOL found in the binding site - not considered an antigen\n",
      "Common molecule GOL found in the binding site - not considered an antigen\n",
      "Common molecule GOL found in the binding site - not considered an antigen\n",
      "Common molecule GOL found in the binding site - not considered an antigen\n",
      "/home/quast/Projects/TCRpy/stcrpy/stcrpy/tcr_datasets/tcr_graph_dataset.py:337: UserWarning: No antigen found for TCR <TCR DC beta=D; alpha=C>. Antigen not included in graph.\n",
      "  warnings.warn(\n",
      "/home/quast/Projects/TCRpy/stcrpy/stcrpy/tcr_datasets/tcr_graph_dataset.py:353: UserWarning: No MHC found for TCR <TCR DC beta=D; alpha=C>. MHC not included in graph.\n",
      "  warnings.warn(f\"No MHC found for TCR {tcr}. MHC not included in graph.\")\n",
      "/home/quast/miniconda3/envs/test-stcrpy/lib/python3.12/site-packages/Bio/PDB/PDBParser.py:384: PDBConstructionWarning: Ignoring unrecognized record 'END' at line 5110\n",
      "  warnings.warn(\n",
      "/home/quast/Projects/TCRpy/stcrpy/stcrpy/tcr_datasets/tcr_graph_dataset.py:337: UserWarning: No antigen found for TCR <TCR BA beta=B; alpha=A>. Antigen not included in graph.\n",
      "  warnings.warn(\n",
      "/home/quast/Projects/TCRpy/stcrpy/stcrpy/tcr_datasets/tcr_graph_dataset.py:353: UserWarning: No MHC found for TCR <TCR BA beta=B; alpha=A>. MHC not included in graph.\n",
      "  warnings.warn(f\"No MHC found for TCR {tcr}. MHC not included in graph.\")\n",
      "/home/quast/Projects/TCRpy/stcrpy/stcrpy/tcr_datasets/tcr_graph_dataset.py:337: UserWarning: No antigen found for TCR <TCR BA beta=B; alpha=A>. Antigen not included in graph.\n",
      "  warnings.warn(\n",
      "/home/quast/Projects/TCRpy/stcrpy/stcrpy/tcr_datasets/tcr_graph_dataset.py:337: UserWarning: No antigen found for TCR <TCR BA beta=B; alpha=A>. Antigen not included in graph.\n",
      "  warnings.warn(\n",
      "/home/quast/Projects/TCRpy/stcrpy/stcrpy/tcr_datasets/tcr_graph_dataset.py:353: UserWarning: No MHC found for TCR <TCR BA beta=B; alpha=A>. MHC not included in graph.\n",
      "  warnings.warn(f\"No MHC found for TCR {tcr}. MHC not included in graph.\")\n",
      "/home/quast/miniconda3/envs/test-stcrpy/lib/python3.12/site-packages/Bio/PDB/StructureBuilder.py:100: PDBConstructionWarning: WARNING: Chain A is discontinuous at line 27473.\n",
      "  warnings.warn(\n",
      "/home/quast/miniconda3/envs/test-stcrpy/lib/python3.12/site-packages/Bio/PDB/StructureBuilder.py:100: PDBConstructionWarning: WARNING: Chain B is discontinuous at line 27485.\n",
      "  warnings.warn(\n",
      "/home/quast/miniconda3/envs/test-stcrpy/lib/python3.12/site-packages/Bio/PDB/StructureBuilder.py:100: PDBConstructionWarning: WARNING: Chain D is discontinuous at line 27487.\n",
      "  warnings.warn(\n",
      "/home/quast/miniconda3/envs/test-stcrpy/lib/python3.12/site-packages/Bio/PDB/StructureBuilder.py:100: PDBConstructionWarning: WARNING: Chain E is discontinuous at line 27501.\n",
      "  warnings.warn(\n",
      "/home/quast/miniconda3/envs/test-stcrpy/lib/python3.12/site-packages/Bio/PDB/StructureBuilder.py:100: PDBConstructionWarning: WARNING: Chain F is discontinuous at line 27514.\n",
      "  warnings.warn(\n",
      "/home/quast/miniconda3/envs/test-stcrpy/lib/python3.12/site-packages/Bio/PDB/StructureBuilder.py:100: PDBConstructionWarning: WARNING: Chain G is discontinuous at line 27534.\n",
      "  warnings.warn(\n",
      "/home/quast/miniconda3/envs/test-stcrpy/lib/python3.12/site-packages/Bio/PDB/StructureBuilder.py:100: PDBConstructionWarning: WARNING: Chain I is discontinuous at line 27536.\n",
      "  warnings.warn(\n",
      "/home/quast/miniconda3/envs/test-stcrpy/lib/python3.12/site-packages/Bio/PDB/StructureBuilder.py:100: PDBConstructionWarning: WARNING: Chain J is discontinuous at line 27547.\n",
      "  warnings.warn(\n",
      "Header could not be parsed/home/quast/Projects/TCRpy/stcrpy/stcrpy/tcr_datasets/tcr_graph_dataset.py:337: UserWarning: No antigen found for TCR <TCR BA beta=B; alpha=A>. Antigen not included in graph.\n",
      "  warnings.warn(\n",
      "/home/quast/Projects/TCRpy/stcrpy/stcrpy/tcr_datasets/tcr_graph_dataset.py:337: UserWarning: No antigen found for TCR <TCR ED beta=E; alpha=D>. Antigen not included in graph.\n",
      "  warnings.warn(\n",
      "/home/quast/Projects/TCRpy/stcrpy/stcrpy/tcr_datasets/tcr_graph_dataset.py:337: UserWarning: No antigen found for TCR <TCR DC beta=D; alpha=C>. Antigen not included in graph.\n",
      "  warnings.warn(\n",
      "/home/quast/Projects/TCRpy/stcrpy/stcrpy/tcr_datasets/tcr_graph_dataset.py:353: UserWarning: No MHC found for TCR <TCR DC beta=D; alpha=C>. MHC not included in graph.\n",
      "  warnings.warn(f\"No MHC found for TCR {tcr}. MHC not included in graph.\")\n",
      "Header could not be parsed/home/quast/Projects/TCRpy/stcrpy/stcrpy/tcr_datasets/tcr_graph_dataset.py:337: UserWarning: No antigen found for TCR <TCR ED beta=E; alpha=D>. Antigen not included in graph.\n",
      "  warnings.warn(\n",
      "/home/quast/Projects/TCRpy/stcrpy/stcrpy/tcr_datasets/tcr_graph_dataset.py:353: UserWarning: No MHC found for TCR <TCR ED beta=E; alpha=D>. MHC not included in graph.\n",
      "  warnings.warn(f\"No MHC found for TCR {tcr}. MHC not included in graph.\")\n",
      "/home/quast/miniconda3/envs/test-stcrpy/lib/python3.12/site-packages/Bio/PDB/PDBParser.py:384: PDBConstructionWarning: Ignoring unrecognized record 'END' at line 5110\n",
      "  warnings.warn(\n",
      "Header could not be parsed/home/quast/Projects/TCRpy/stcrpy/stcrpy/tcr_datasets/tcr_graph_dataset.py:353: UserWarning: No MHC found for TCR <TCR DC beta=D; alpha=C>. MHC not included in graph.\n",
      "  warnings.warn(f\"No MHC found for TCR {tcr}. MHC not included in graph.\")\n",
      "/home/quast/Projects/TCRpy/stcrpy/stcrpy/tcr_datasets/tcr_graph_dataset.py:197: UserWarning: \n",
      "                        Could not resolve chain type: protein of node:\n",
      "                        <Atom CA>|<Chain id=A>|Antigen\n",
      "  warnings.warn(\n",
      "/home/quast/Projects/TCRpy/stcrpy/stcrpy/tcr_datasets/tcr_graph_dataset.py:197: UserWarning: \n",
      "                        Could not resolve chain type: protein of node:\n",
      "                        <DisorderedAtom CA>|<Chain id=A>|Antigen\n",
      "  warnings.warn(\n",
      "/home/quast/Projects/TCRpy/stcrpy/stcrpy/tcr_datasets/tcr_graph_dataset.py:472: UserWarning: Dataset parsing error: pop index out of range for TCR: <TCR DC beta=D; alpha=C>\n",
      "  warnings.warn(f\"Dataset parsing error: {str(e)} for TCR: {tcr}\")\n",
      "Header could not be parsedHeader could not be parsedHeader could not be parsedCommon molecule SO4 found in the binding site - not considered an antigen\n",
      "Common molecule SO4 found in the binding site - not considered an antigen\n",
      "Common molecule SO4 found in the binding site - not considered an antigen\n",
      "Common molecule SO4 found in the binding site - not considered an antigen\n",
      "Common molecule SO4 found in the binding site - not considered an antigen\n",
      "Common molecule SO4 found in the binding site - not considered an antigen\n",
      "Common molecule SO4 found in the binding site - not considered an antigen\n",
      "Header could not be parsed/home/quast/Projects/TCRpy/stcrpy/stcrpy/tcr_datasets/tcr_graph_dataset.py:337: UserWarning: No antigen found for TCR <TCR CD delta=C; gamma=D>. Antigen not included in graph.\n",
      "  warnings.warn(\n",
      "/home/quast/Projects/TCRpy/stcrpy/stcrpy/tcr_datasets/tcr_graph_dataset.py:353: UserWarning: No MHC found for TCR <TCR CD delta=C; gamma=D>. MHC not included in graph.\n",
      "  warnings.warn(f\"No MHC found for TCR {tcr}. MHC not included in graph.\")\n",
      "Header could not be parsed/home/quast/Projects/TCRpy/stcrpy/stcrpy/tcr_datasets/tcr_graph_dataset.py:337: UserWarning: No antigen found for TCR <TCR BA beta=B; alpha=A>. Antigen not included in graph.\n",
      "  warnings.warn(\n",
      "/home/quast/Projects/TCRpy/stcrpy/stcrpy/tcr_datasets/tcr_graph_dataset.py:353: UserWarning: No MHC found for TCR <TCR BA beta=B; alpha=A>. MHC not included in graph.\n",
      "  warnings.warn(f\"No MHC found for TCR {tcr}. MHC not included in graph.\")\n",
      "/home/quast/Projects/TCRpy/stcrpy/stcrpy/tcr_datasets/tcr_graph_dataset.py:337: UserWarning: No antigen found for TCR <TCR DC beta=D; alpha=C>. Antigen not included in graph.\n",
      "  warnings.warn(\n",
      "/home/quast/Projects/TCRpy/stcrpy/stcrpy/tcr_datasets/tcr_graph_dataset.py:353: UserWarning: No MHC found for TCR <TCR DC beta=D; alpha=C>. MHC not included in graph.\n",
      "  warnings.warn(f\"No MHC found for TCR {tcr}. MHC not included in graph.\")\n",
      "Done!\n"
     ]
    },
    {
     "data": {
      "text/plain": [
       "TCRGraphDataset(20)"
      ]
     },
     "execution_count": 3,
     "metadata": {},
     "output_type": "execute_result"
    }
   ],
   "source": [
    "input_dataset = TCRGraphDataset(data_paths=\"example_graph_data.csv\", root=\"./input_graphs\", edge_features=\"fully_connected\", mhc_distance_cutoff=15.)"
   ]
  },
  {
   "cell_type": "code",
   "execution_count": 5,
   "metadata": {},
   "outputs": [
    {
     "data": {
      "text/plain": [
       "TCRGraphDataset(20)"
      ]
     },
     "execution_count": 5,
     "metadata": {},
     "output_type": "execute_result"
    }
   ],
   "source": [
    "input_dataset"
   ]
  },
  {
   "cell_type": "code",
   "execution_count": 8,
   "metadata": {},
   "outputs": [],
   "source": [
    "from torch_geometric.loader import DataLoader\n",
    "\n",
    "from egnn import EGNN\n",
    "\n",
    "class NodeClassificationEGNN(torch.nn.Module):\n",
    "    def __init__(self, dim=32, num_classes=6, input_dim=69):\n",
    "        super(NodeClassificationEGNN, self).__init__()\n",
    "        self.dim = dim \n",
    "        self.input_dim = input_dim\n",
    "        self.num_classes = num_classes\n",
    "        self.linear_projection = nn.Linear(self.input_dim, self.dim)\n",
    "        self.layer1 = EGNN(dim=self.dim, num_nearest_neighbors=16)\n",
    "        self.layer2 = EGNN(dim=self.dim, num_nearest_neighbors=16)\n",
    "        self.layer3 = EGNN(dim=self.dim, num_nearest_neighbors=16)\n",
    "        self.out = nn.Sequential(nn.Linear(self.dim, 16), nn.ReLU(), nn.Linear(16, self.num_classes))\n",
    "        self.softmax = nn.Softmax()\n",
    "\n",
    "    def forward(self, node_feats, coords, adj_mat=None):\n",
    "        node_feats = self.linear_projection(node_feats.squeeze()).unsqueeze(0)\n",
    "        node_feats, coords = self.layer1(node_feats, coords, adj_mat=adj_mat)\n",
    "        node_feats, coords = self.layer2(node_feats, coords, adj_mat=adj_mat)\n",
    "        node_feats, coords = self.layer3(node_feats, coords, adj_mat=adj_mat)\n",
    "        node_feats = self.out(node_feats.squeeze())\n",
    "        return node_feats.unsqueeze(0)\n"
   ]
  },
  {
   "cell_type": "code",
   "execution_count": 9,
   "metadata": {},
   "outputs": [
    {
     "data": {
      "text/plain": [
       "NodeClassificationEGNN(\n",
       "  (linear_projection): Linear(in_features=58, out_features=32, bias=True)\n",
       "  (layer1): EGNN(\n",
       "    (edge_mlp): Sequential(\n",
       "      (0): Linear(in_features=65, out_features=130, bias=True)\n",
       "      (1): Identity()\n",
       "      (2): SiLU()\n",
       "      (3): Linear(in_features=130, out_features=16, bias=True)\n",
       "      (4): SiLU()\n",
       "    )\n",
       "    (node_norm): Identity()\n",
       "    (coors_norm): Identity()\n",
       "    (node_mlp): Sequential(\n",
       "      (0): Linear(in_features=48, out_features=64, bias=True)\n",
       "      (1): Identity()\n",
       "      (2): SiLU()\n",
       "      (3): Linear(in_features=64, out_features=32, bias=True)\n",
       "    )\n",
       "    (coors_mlp): Sequential(\n",
       "      (0): Linear(in_features=16, out_features=64, bias=True)\n",
       "      (1): Identity()\n",
       "      (2): SiLU()\n",
       "      (3): Linear(in_features=64, out_features=1, bias=True)\n",
       "    )\n",
       "  )\n",
       "  (layer2): EGNN(\n",
       "    (edge_mlp): Sequential(\n",
       "      (0): Linear(in_features=65, out_features=130, bias=True)\n",
       "      (1): Identity()\n",
       "      (2): SiLU()\n",
       "      (3): Linear(in_features=130, out_features=16, bias=True)\n",
       "      (4): SiLU()\n",
       "    )\n",
       "    (node_norm): Identity()\n",
       "    (coors_norm): Identity()\n",
       "    (node_mlp): Sequential(\n",
       "      (0): Linear(in_features=48, out_features=64, bias=True)\n",
       "      (1): Identity()\n",
       "      (2): SiLU()\n",
       "      (3): Linear(in_features=64, out_features=32, bias=True)\n",
       "    )\n",
       "    (coors_mlp): Sequential(\n",
       "      (0): Linear(in_features=16, out_features=64, bias=True)\n",
       "      (1): Identity()\n",
       "      (2): SiLU()\n",
       "      (3): Linear(in_features=64, out_features=1, bias=True)\n",
       "    )\n",
       "  )\n",
       "  (layer3): EGNN(\n",
       "    (edge_mlp): Sequential(\n",
       "      (0): Linear(in_features=65, out_features=130, bias=True)\n",
       "      (1): Identity()\n",
       "      (2): SiLU()\n",
       "      (3): Linear(in_features=130, out_features=16, bias=True)\n",
       "      (4): SiLU()\n",
       "    )\n",
       "    (node_norm): Identity()\n",
       "    (coors_norm): Identity()\n",
       "    (node_mlp): Sequential(\n",
       "      (0): Linear(in_features=48, out_features=64, bias=True)\n",
       "      (1): Identity()\n",
       "      (2): SiLU()\n",
       "      (3): Linear(in_features=64, out_features=32, bias=True)\n",
       "    )\n",
       "    (coors_mlp): Sequential(\n",
       "      (0): Linear(in_features=16, out_features=64, bias=True)\n",
       "      (1): Identity()\n",
       "      (2): SiLU()\n",
       "      (3): Linear(in_features=64, out_features=1, bias=True)\n",
       "    )\n",
       "  )\n",
       "  (out): Sequential(\n",
       "    (0): Linear(in_features=32, out_features=16, bias=True)\n",
       "    (1): ReLU()\n",
       "    (2): Linear(in_features=16, out_features=4, bias=True)\n",
       "  )\n",
       "  (softmax): Softmax(dim=None)\n",
       ")"
      ]
     },
     "execution_count": 9,
     "metadata": {},
     "output_type": "execute_result"
    }
   ],
   "source": [
    "device = torch.device('cuda' if torch.cuda.is_available() else 'cpu')\n",
    "\n",
    "model = NodeClassificationEGNN(num_classes=4, input_dim=58)\n",
    "model = model.to(device)\n",
    "\n",
    "random.seed(0)\n",
    "train_index = random.sample(list(range(len(input_dataset))), k=int(0.75 * len(input_dataset)))\n",
    "val_index = [i for i in range(len(input_dataset)) if i not in train_index]\n",
    "train_dl = DataLoader(input_dataset[train_index], batch_size=10)\n",
    "val_dl = DataLoader(input_dataset[val_index], batch_size=10)\n",
    "\n",
    "\n",
    "optimizer = torch.optim.Adam(model.parameters(), lr=0.001)\n",
    "\n",
    "loss_fn = nn.CrossEntropyLoss(weight=torch.tensor([187., 237.,  62.,   9.]).sum() / torch.tensor([187., 237.,  62.,   9.]))       # Weighted by approximate node frequency\n",
    "\n",
    "model.train()"
   ]
  },
  {
   "cell_type": "code",
   "execution_count": 10,
   "metadata": {},
   "outputs": [],
   "source": [
    "def edge_index_to_adj_mat(edge_index, N, self_connections=False):\n",
    "    if self_connections:\n",
    "        adj_mat = torch.eye((N, N), dtype=bool)\n",
    "    else:\n",
    "        adj_mat = torch.zeros((N, N), dtype=torch.bool)\n",
    "    adj_mat[*edge_index] = 1\n",
    "    return adj_mat\n"
   ]
  },
  {
   "cell_type": "code",
   "execution_count": 11,
   "metadata": {},
   "outputs": [],
   "source": [
    "from einops import rearrange\n",
    "def get_distances(coors, adj_mat=None):\n",
    "    rel_coors = rearrange(coors, 'b i d -> b i () d') - rearrange(coors, 'b j d -> b () j d')\n",
    "    rel_dist = (rel_coors ** 2).sum(dim = -1, keepdim = True).sqrt()\n",
    "    if adj_mat is not None:\n",
    "        rel_dist[~adj_mat.unsqueeze(0)] = torch.tensor([torch.inf])\n",
    "    return rel_dist"
   ]
  },
  {
   "cell_type": "code",
   "execution_count": null,
   "metadata": {},
   "outputs": [
    {
     "name": "stderr",
     "output_type": "stream",
     "text": [
      "100%|██████████| 2/2 [00:06<00:00,  3.13s/it]\n"
     ]
    },
    {
     "name": "stdout",
     "output_type": "stream",
     "text": [
      "Epoch: 0 - Loss: 8.88794231414795\n",
      "(tensor([0]), tensor([1910]))\n",
      "Epoch: 0 - Val accuracy: 0.4085\n"
     ]
    },
    {
     "name": "stderr",
     "output_type": "stream",
     "text": [
      "100%|██████████| 2/2 [00:05<00:00,  2.95s/it]\n"
     ]
    },
    {
     "name": "stdout",
     "output_type": "stream",
     "text": [
      "Epoch: 1 - Loss: 8.82473087310791\n",
      "(tensor([0]), tensor([1910]))\n",
      "Epoch: 1 - Val accuracy: 0.4085\n"
     ]
    },
    {
     "name": "stderr",
     "output_type": "stream",
     "text": [
      "100%|██████████| 2/2 [00:05<00:00,  2.80s/it]\n"
     ]
    },
    {
     "name": "stdout",
     "output_type": "stream",
     "text": [
      "Epoch: 2 - Loss: 8.788976669311523\n",
      "(tensor([0, 2]), tensor([1909,    1]))\n",
      "Epoch: 2 - Val accuracy: 0.343\n"
     ]
    },
    {
     "name": "stderr",
     "output_type": "stream",
     "text": [
      "100%|██████████| 2/2 [00:05<00:00,  2.84s/it]\n"
     ]
    },
    {
     "name": "stdout",
     "output_type": "stream",
     "text": [
      "Epoch: 3 - Loss: 8.751437187194824\n",
      "(tensor([0, 2]), tensor([1829,   81]))\n",
      "Epoch: 3 - Val accuracy: 0.4007\n"
     ]
    },
    {
     "name": "stderr",
     "output_type": "stream",
     "text": [
      "100%|██████████| 2/2 [00:05<00:00,  2.83s/it]\n"
     ]
    },
    {
     "name": "stdout",
     "output_type": "stream",
     "text": [
      "Epoch: 4 - Loss: 8.698257684707642\n",
      "(tensor([0, 2]), tensor([1837,   73]))\n",
      "Epoch: 4 - Val accuracy: 0.3582\n"
     ]
    }
   ],
   "source": [
    "torch.manual_seed(0)\n",
    "model.train()\n",
    "for epoch in range(1000):\n",
    "    epoch_loss = 0.\n",
    "    for data in tqdm(train_dl):\n",
    "        adj_mat = edge_index_to_adj_mat(data.edge_index, data.num_nodes)\n",
    "        target = data.x[:, :4]\n",
    "        optimizer.zero_grad()\n",
    "        out = model(data.x[:, 11:].float().unsqueeze(0), data.pos.unsqueeze(0), adj_mat=adj_mat)\n",
    "        loss = loss_fn(out.squeeze(), target.float().squeeze())\n",
    "        loss.backward()\n",
    "        optimizer.step()\n",
    "        epoch_loss += loss.item()\n",
    "    print(f\"Epoch: {epoch} - Loss: {epoch_loss}\")\n",
    "    print(out.argmax(dim=-1).flatten().unique(return_counts=True))\n",
    "\n",
    "    val_preds = []\n",
    "    val_targets = []\n",
    "    for data in val_dl: \n",
    "        with torch.no_grad():\n",
    "            adj_mat = edge_index_to_adj_mat(data.edge_index, data.num_nodes)\n",
    "            target = data.x[:, :4]\n",
    "            val_targets.append(target.argmax(dim=-1))\n",
    "            out = model(data.x[:, 11:].float().unsqueeze(0), data.pos.unsqueeze(0), adj_mat=adj_mat)\n",
    "            val_preds.append(out.argmax(dim=-1))\n",
    "    val_preds = torch.concat(val_preds, dim=-1).squeeze()\n",
    "    val_targets = torch.concat(val_targets, dim=-1).squeeze()\n",
    "    val_accuracy = (val_preds == val_targets).sum() / len(val_preds)\n",
    "    print(f\"Epoch: {epoch} - Val accuracy: {val_accuracy:.4}\")\n"
   ]
  },
  {
   "cell_type": "code",
   "execution_count": null,
   "metadata": {},
   "outputs": [],
   "source": [
    "torch.save(model, \"egnn_model.pt\")\n",
    "torch.save(optimizer, \"egnn_optimizer.pt\")"
   ]
  },
  {
   "cell_type": "code",
   "execution_count": null,
   "metadata": {},
   "outputs": [
    {
     "name": "stdout",
     "output_type": "stream",
     "text": [
      "Epoch: 12 - Train accuracy: 0.9444\n"
     ]
    }
   ],
   "source": [
    "train_preds = []\n",
    "train_targets = []\n",
    "for data in train_dl: \n",
    "    with torch.no_grad():\n",
    "        adj_mat = edge_index_to_adj_mat(data.edge_index, data.num_nodes)\n",
    "        target = data.x[:, :4]\n",
    "        train_targets.append(target.argmax(dim=-1))\n",
    "        out = model(data.x[:, 11:].float().unsqueeze(0), data.pos.unsqueeze(0), adj_mat=adj_mat)\n",
    "        train_preds.append(out.argmax(dim=-1))\n",
    "train_preds = torch.concat(train_preds, dim=-1).squeeze()\n",
    "train_targets = torch.concat(train_targets, dim=-1).squeeze()\n",
    "train_accuracy = (train_preds == train_targets).sum() / len(train_preds)\n",
    "print(f\"Epoch: {epoch} - Train accuracy: {train_accuracy:.4}\")"
   ]
  },
  {
   "cell_type": "code",
   "execution_count": null,
   "metadata": {},
   "outputs": [
    {
     "name": "stdout",
     "output_type": "stream",
     "text": [
      "Epoch: 12 - Val accuracy: 0.9393\n"
     ]
    }
   ],
   "source": [
    "\n",
    "val_preds = []\n",
    "val_targets = []\n",
    "for data in val_dl: \n",
    "    with torch.no_grad():\n",
    "        adj_mat = edge_index_to_adj_mat(data.edge_index, data.num_nodes)\n",
    "        target = data.x[:, :4]\n",
    "        val_targets.append(target.argmax(dim=-1))\n",
    "        out = model(data.x[:, 11:].float().unsqueeze(0), data.pos.unsqueeze(0), adj_mat=adj_mat)\n",
    "        val_preds.append(out.argmax(dim=-1))\n",
    "val_preds = torch.concat(val_preds, dim=-1).squeeze()\n",
    "val_targets = torch.concat(val_targets, dim=-1).squeeze()\n",
    "val_accuracy = (val_preds == val_targets).sum() / len(val_preds)\n",
    "print(f\"Epoch: {epoch} - Val accuracy: {val_accuracy:.4}\")"
   ]
  },
  {
   "cell_type": "code",
   "execution_count": null,
   "metadata": {},
   "outputs": [
    {
     "data": {
      "text/plain": [
       "tensor([20453, 25674,  3875,  1253])"
      ]
     },
     "execution_count": 59,
     "metadata": {},
     "output_type": "execute_result"
    }
   ],
   "source": [
    "val_preds.bincount()"
   ]
  },
  {
   "cell_type": "code",
   "execution_count": null,
   "metadata": {},
   "outputs": [
    {
     "name": "stdout",
     "output_type": "stream",
     "text": [
      "Val accuracy TCR a: 0.9326\n",
      "Val accuracy TCR b: 0.9599\n",
      "Val accuracy peptide: 0.8692\n",
      "Val accuracy MHC: 0.7776\n"
     ]
    }
   ],
   "source": [
    "val_accuracy = (val_preds[val_targets == 0] == val_targets[val_targets == 0]).sum() / (val_targets == 0).sum()\n",
    "print(f\"Val accuracy TCR a: {val_accuracy:.4}\")\n",
    "val_accuracy = (val_preds[val_targets == 1] == val_targets[val_targets == 1]).sum() / (val_targets == 1).sum()\n",
    "print(f\"Val accuracy TCR b: {val_accuracy:.4}\")\n",
    "val_accuracy = (val_preds[val_targets == 2] == val_targets[val_targets == 2]).sum() / (val_targets == 2).sum()\n",
    "print(f\"Val accuracy peptide: {val_accuracy:.4}\")\n",
    "val_accuracy = (val_preds[val_targets == 3] == val_targets[val_targets == 3]).sum() / (val_targets == 3).sum()\n",
    "print(f\"Val accuracy MHC: {val_accuracy:.4}\")"
   ]
  },
  {
   "cell_type": "code",
   "execution_count": null,
   "metadata": {},
   "outputs": [
    {
     "name": "stdout",
     "output_type": "stream",
     "text": [
      "Val accuracy TCR a: 0.3743\n",
      "Val accuracy TCR b: 0.4787\n",
      "Val accuracy peptide: 0.1273\n",
      "Val accuracy MHC: 0.0208\n"
     ]
    }
   ],
   "source": [
    "baseline_random_preds = torch.tensor(np.random.choice(np.arange(4), size=val_preds.shape, p=torch.tensor([187., 237.,  62.,   9.]) / torch.tensor([187., 237.,  62.,   9.]).sum() ))\n",
    "val_accuracy = (baseline_random_preds[val_targets == 0] == val_targets[val_targets == 0]).sum() / (val_targets == 0).sum()\n",
    "print(f\"Baseline val accuracy TCR a: {val_accuracy:.4}\")\n",
    "val_accuracy = (baseline_random_preds[val_targets == 1] == val_targets[val_targets == 1]).sum() / (val_targets == 1).sum()\n",
    "print(f\"Baseline val accuracy TCR b: {val_accuracy:.4}\")\n",
    "val_accuracy = (baseline_random_preds[val_targets == 2] == val_targets[val_targets == 2]).sum() / (val_targets == 2).sum()\n",
    "print(f\"Baseline val accuracy peptide: {val_accuracy:.4}\")\n",
    "val_accuracy = (baseline_random_preds[val_targets == 3] == val_targets[val_targets == 3]).sum() / (val_targets == 3).sum()\n",
    "print(f\"Baseline val accuracy MHC: {val_accuracy:.4}\")"
   ]
  }
 ],
 "metadata": {
  "kernelspec": {
   "display_name": "test-stcrpy",
   "language": "python",
   "name": "python3"
  },
  "language_info": {
   "codemirror_mode": {
    "name": "ipython",
    "version": 3
   },
   "file_extension": ".py",
   "mimetype": "text/x-python",
   "name": "python",
   "nbconvert_exporter": "python",
   "pygments_lexer": "ipython3",
   "version": "3.12.0"
  }
 },
 "nbformat": 4,
 "nbformat_minor": 2
}
